{
 "cells": [
  {
   "cell_type": "markdown",
   "metadata": {
    "id": "ZWtNO2K7QjS_"
   },
   "source": [
    "# Molecular Biology Database Metrics Jupyter Notebook\n",
    "At [UniProt](https://uniprot.org) we have developed some useful metrics over the years to measure and report our progress and impact to funders and policy makers. As part of an administrative supplement awarded by NIH [ODSS](https://datascience.nih.gov/about/odss) we have created this Google Colab page to enable other data resource providers to easily run these metrics.\n",
    "\n",
    "This page allows you to investigate how often a resource is mentioned in the full text literature and how often it is mentioned in papers that cite specific funding sources. You need not limit yourself to only looking at database resources. You can use any keywords to investigate the impact of experimental techniques or anything else you can think of.\n",
    "\n",
    "If you have specific feedback on this notebook then please contact Alex Bateman (<agb@ebi.ac.uk>).\n",
    "We would like to fund the fantastic work of [Europe PubMed Central](https://europepmc.org/) and [ChEMBL](https://www.ebi.ac.uk/chembl/) for making the APIs that power much of this page.\n",
    "\n",
    "\n",
    "## Contents\n",
    "\n",
    "This notebook will perform queries in publication ([EuropePMC](https://europepmc.org/)) and patents ([SureCHEMBL](https://www.surechembl.org/)) databases to compute and display graphically the impact of a resource.\n",
    "In particular plots will be generated that\n",
    "- show how the number of mentions changes over time\n",
    "- group publications by the grant agency they acknowledge\n",
    "- find in which section of a publication a resource is mentioned.\n",
    "\n",
    "# Instructions\n",
    "\n",
    "Start by executing BOTH the (⏵︎) **Code** and the **Parameters** cells (wherein you can specify what to query for).\n",
    "\n",
    "After doing that, to (re)generate the plots, execute (⏵︎) the corresponding cells.\n",
    "Alternatively, after choosing what to query in the **Parameters** section, you can choose **Run all** from the **Runtime** menu at the top of the page.\n",
    "\n",
    "If this is your first time using an interactive notebook or colab, you may want to check the [intro to jupyter notebooks](https://jupyter.org/try-jupyter/retro/notebooks/?path=notebooks/Intro.ipynb) or the [colab introductory page](https://colab.research.google.com/)\n",
    "\n",
    "### Changelog:\n",
    "\n",
    "    2023.03.12 first colab version with basic query capabilities\n",
    "    2023.03.13 added plot generation via plotly and parameters selection via form\n",
    "    2023.03.14 interface and plot improvements; added capability to download data as csv, introduction text and first tests of patent info retrieval\n",
    "    2023.03.15 improved plot interface, also with possibility to draw on plots; plots can be saved with meaningful filenames; added retrieval of patent information from SureChEMBL\n",
    "    2023.03.16 added retrieval of total patents in timeframe; added progress bars and error messages if Code has not been initialised\n",
    "    2023.06.27 changed to ascii progress bar to avoid incompatibility with plotly display\n",
    "    2023.08.25 converted from colab version to run independently as jupyter notebook\n",
    "\n",
    "### Credits:\n",
    "\n",
    "Code by Alex Bateman, Alex Ignatchenko and Giuseppe Insana\n",
    "\n",
    "© 2023- [UniProt consortium](https://www.uniprot.org/help/about)"
   ]
  },
  {
   "cell_type": "markdown",
   "metadata": {},
   "source": [
    "## Code"
   ]
  },
  {
   "cell_type": "code",
   "execution_count": 5,
   "metadata": {
    "id": "71bks8wI2fj_",
    "tags": [
     "hide-input"
    ]
   },
   "outputs": [],
   "source": [
    "#imports\n",
    "import re\n",
    "import sys\n",
    "import pandas as pd\n",
    "import plotly.graph_objects as go\n",
    "import requests\n",
    "from requests.adapters import HTTPAdapter, Retry\n",
    "import datetime\n",
    "from time import sleep\n",
    "from tqdm import tqdm\n",
    "import plotly.io as pio\n",
    "pio.renderers.default = 'notebook'\n",
    "import ipywidgets as widgets #for jupyter input dialogs\n",
    "from IPython.display import clear_output\n",
    "\n",
    "\n",
    "#plotly config\n",
    "plotly_config = {\n",
    "    'displayModeBar': True,\n",
    "    'toImageButtonOptions': {\n",
    "        'format': 'png', # one of png, svg, jpeg, webp\n",
    "        'filename': 'impact_plot',\n",
    "        #'width': 1280,\n",
    "        #'height': 1024,\n",
    "    },\n",
    "    'modeBarButtonsToRemove': ['lasso2d'],\n",
    "    'modeBarButtonsToAdd': ['drawline', 'drawopenpath']\n",
    "}\n",
    "\n",
    "#paper sections:\n",
    "paper_sections=['ABBR','ACK_FUND','APPENDIX','AUTH_CON','CASE','COMP_INT','FIG','OTHER','REF','TABLE','ABSTRACT','INTRO','KEYWORD','METHODS','RESULTS','DISCUSS','CONCL','SUPPL'];\n",
    "#grant agencies' lists:\n",
    "granters_nih = ['NIH','NHGRI NIH HHS','NIGMS NIH HHS','NCI NIH HHS',\n",
    "                'NHLBI NIH HHS','NIAID NIH HHS','NIDDK NIH HHS','NINDS NIH HHS',\n",
    "                'NIMH NIH HHS',\t'NCRR NIH HHS','NICHD NIH HHS','NIA NIH HHS',\n",
    "                'NIDA NIH HHS','NEI NIH HHS','NIAMS NIH HHS','NIEHS NIH HHS',\n",
    "                'NIAAA NIH HHS','NIDCR NIH HHS','NIDCD NIH HHS','NIBIB NIH HHS']\n",
    "granters_us = ['Department of Energy','National Science Foundation','Bill and Melinda Gates',\n",
    "            'Department of Defense','Department of Agriculture','Food and Drug Administration',\n",
    "            'Environmental Protection Agency','Howard Hughes Medical Institute']\n",
    "granters_uk = ['Wellcome Trust','Medical Research Council','Biotechnology and Biological Sciences Research Council',\n",
    "            'Engineering and Physical Sciences Research Council','Natural Environment Research Council',\n",
    "            'Economic and Social Research Council','Arts and Humanities Research Council',\n",
    "            'Science and Technology Facilities Council']\n",
    "css_colors = {'aliceblue', 'antiquewhite', 'aqua', 'aquamarine', 'azure', 'beige', 'bisque', 'black', 'blanchedalmond', 'blue', 'blueviolet', 'brown', 'burlywood', 'cadetblue', 'chartreuse', 'chocolate', 'coral', 'cornflowerblue', 'cornsilk', 'crimson', 'cyan', 'darkblue', 'darkcyan', 'darkgoldenrod', 'darkgray', 'darkgrey', 'darkgreen', 'darkkhaki', 'darkmagenta', 'darkolivegreen', 'darkorange', 'darkorchid', 'darkred', 'darksalmon', 'darkseagreen', 'darkslateblue', 'darkslategray', 'darkslategrey', 'darkturquoise', 'darkviolet', 'deeppink', 'deepskyblue', 'dimgray', 'dimgrey', 'dodgerblue', 'firebrick', 'floralwhite', 'forestgreen', 'fuchsia', 'gainsboro', 'ghostwhite', 'gold', 'goldenrod', 'gray', 'grey', 'green', 'greenyellow', 'honeydew', 'hotpink', 'indianred', 'indigo', 'ivory', 'khaki', 'lavender', 'lavenderblush', 'lawngreen', 'lemonchiffon', 'lightblue', 'lightcoral', 'lightcyan', 'lightgoldenrodyellow', 'lightgray', 'lightgrey', 'lightgreen', 'lightpink', 'lightsalmon', 'lightseagreen', 'lightskyblue', 'lightslategray', 'lightslategrey', 'lightsteelblue', 'lightyellow', 'lime', 'limegreen', 'linen', 'magenta', 'maroon', 'mediumaquamarine', 'mediumblue', 'mediumorchid', 'mediumpurple', 'mediumseagreen', 'mediumslateblue', 'mediumspringgreen', 'mediumturquoise', 'mediumvioletred', 'midnightblue', 'mintcream', 'mistyrose', 'moccasin', 'navajowhite', 'navy', 'oldlace', 'olive', 'olivedrab', 'orange', 'orangered', 'orchid', 'palegoldenrod', 'palegreen', 'paleturquoise', 'palevioletred', 'papayawhip', 'peachpuff', 'peru', 'pink', 'plum', 'powderblue', 'purple', 'red', 'rosybrown', 'royalblue', 'rebeccapurple', 'saddlebrown', 'salmon', 'sandybrown', 'seagreen', 'seashell', 'sienna', 'silver', 'skyblue', 'slateblue', 'slategray', 'slategrey', 'snow', 'springgreen', 'steelblue', 'tan', 'teal', 'thistle', 'tomato', 'turquoise', 'violet', 'wheat', 'white', 'whitesmoke', 'yellow', 'yellowgreen'}\n",
    "HEX_COLOR_REGEX = re.compile(r'^#([A-Fa-f0-9]{6}|[A-Fa-f0-9]{3})$')\n",
    "\n",
    "\n",
    "#helper functions\n",
    "def eprint(*myargs, **kwargs):\n",
    "    \"\"\"\n",
    "    print to stderr, useful for error messages\n",
    "    \"\"\"\n",
    "    print(*myargs, file=sys.stderr, **kwargs)\n",
    "\n",
    "\n",
    "def query2publications(query, description='', debug=False):\n",
    "    \"\"\"\n",
    "    return total number of hits of a query submitted to Europe PMC database\n",
    "    \"\"\"\n",
    "    headers = {'user-agent': 'resourceimpact/0.5', 'Accept' : 'application/json'}\n",
    "    params = {'resultType': \"idlist\", 'format': \"json\", 'pageSize': 1, 'query': query}\n",
    "    api_url = \"https://www.ebi.ac.uk/europepmc/webservices/rest/search\"\n",
    "\n",
    "    #for retries\n",
    "    s = requests.Session()\n",
    "    retries = Retry(total=5, backoff_factor=1, status_forcelist=[ 502, 503, 504 ])\n",
    "    s.mount('http://', HTTPAdapter(max_retries=retries))\n",
    "\n",
    "    r = s.get(api_url, params=params, headers=headers)\n",
    "    if r.status_code in (200, 206):\n",
    "        parsed = r.json()\n",
    "        hits = parsed['hitCount']\n",
    "        if debug:\n",
    "            eprint(r.url)\n",
    "            eprint('{}: {}'.format(description, hits))\n",
    "        return hits\n",
    "    else:\n",
    "        eprint(\"ERROR: problems querying EuropePMC, http status code is '{}'({})\".format(r.status_code, r.reason))\n",
    "        return -1\n",
    "\n",
    "\n",
    "def query2patents(query, description='', debug=False):\n",
    "    \"\"\"\n",
    "    return total number of hits of a query submitted to patent website\n",
    "    query format example: query=(uniprot) AND ((pnctry:(US OR EP OR WO OR JP))) AND (pdates:2022)\n",
    "    \"\"\"\n",
    "    json_data = {\n",
    "        'query': '{} AND ((pnctry:(US OR EP OR WO OR JP)))'.format(query),\n",
    "        'dev': \"\", 'child_of': \"\", 'data_source': 'PATENTS',\n",
    "        'save_search': \"yes\", 'save_search_label': \"\", 'max_hits': 1#,\n",
    "        #'search_appendix': [{\"authorities\":{\"authorities-all-annotated\":\"checked\"},\"sure-query\":\"diabet*\"},{\"authorities\":{\"key\":\"Authorities+searched\",\"values\":[\"All+chemically+annotated+authorities\"]},\"sure-query\":\"Query\"}]\n",
    "    }\n",
    "    headers = {'user-agent': 'resourceimpact/0.5', 'Accept' : 'application/json', 'Content-Type': 'application/x-www-form-urlencoded'}\n",
    "    #for retries\n",
    "    s = requests.Session()\n",
    "    retries = Retry(total=5, backoff_factor=1, status_forcelist=[ 400, 502, 503, 504 ])\n",
    "    s.mount('http://', HTTPAdapter(max_retries=retries))\n",
    "\n",
    "    api_url = \"https://www.surechembl.org/api/search/content\"\n",
    "    if debug: eprint('querying surechembl with query {}'.format(query))\n",
    "    r = s.get(api_url, headers=headers, data=json_data)\n",
    "    attempt = 0\n",
    "    max_attempts = 5\n",
    "    search_hash = ''\n",
    "    search_completed = False\n",
    "    if r.status_code in (200, 206):\n",
    "        search_hash = r.json()['data']['hash']\n",
    "        status_url = 'https://www.surechembl.org/api/search/{}/status'.format(search_hash)\n",
    "        while attempt < max_attempts:\n",
    "            attempt += 1\n",
    "            if debug: eprint('attempt {}/{}'.format(attempt, max_attempts))\n",
    "            r = s.get(status_url, headers=headers)\n",
    "            if r.status_code in (200, 206) and r.json()['status'] == 'OK' and r.json()['data']['message'] == 'Searching finished.':\n",
    "                search_completed = True\n",
    "                break;\n",
    "            sleep(2) #sleep for 2 seconds and re-try to check whether search has completed\n",
    "        if search_completed:\n",
    "            results_url = 'https://www.surechembl.org/api/search/{}/results'.format(search_hash)\n",
    "            r = s.get(results_url, headers=headers, params={'page': 1, 'max_results': 0})\n",
    "            if r.status_code in (200, 206):\n",
    "                parsed = r.json()\n",
    "                hits = parsed['data']['results']['total_hits']\n",
    "                if debug:\n",
    "                    eprint('{}: {}'.format(description, hits))\n",
    "                return hits\n",
    "    eprint(\"ERROR: problems querying SureCHEMBL, http status code is '{}'({}), attempts: {}\".format(r.status_code, r.reason, attempt))\n",
    "    return -1\n",
    "\n",
    "\n",
    "def barplot(x, y, title='', xaxis='', resulttype='papers', filename='resource_impact', sort=True):\n",
    "    \"\"\"\n",
    "    plot a bar plot\n",
    "    return a dataframe with the data used\n",
    "    \"\"\"\n",
    "    layout = go.Layout(title='Number of {} mentioning {}<br />{}'.format(resulttype, query, title),\n",
    "                   #barmode=\"stack\",\n",
    "                   xaxis_title = xaxis,\n",
    "                   #xaxis_showticklabels = False,\n",
    "                   yaxis_title = 'Number of {}'.format(resulttype))\n",
    "    trace = go.Bar(x=x, y=y, marker_color=bar_colors, text=y)\n",
    "    plot = go.Figure([trace], layout)\n",
    "    plot.update_xaxes(type='category')\n",
    "\n",
    "    if sort:\n",
    "        plot.update_xaxes(categoryorder='total ascending')\n",
    "\n",
    "    if filename:\n",
    "        #update filename for downloadable plot image\n",
    "        plotly_config['toImageButtonOptions']['filename']=filename\n",
    "\n",
    "\n",
    "    data = {}\n",
    "    data[xaxis] = x\n",
    "    data[resulttype] = y\n",
    "    df = pd.DataFrame(data)\n",
    "    plot.show(config=plotly_config, renderer='notebook')\n",
    "    return df\n",
    "\n",
    "\n",
    "def show_form():\n",
    "    display(query_widget)\n",
    "    display(years_slider)\n",
    "    display(granters_widget)\n",
    "    display(bars_color_scheme_widget)\n",
    "    \n",
    "    \n",
    "def print_parameters():\n",
    "    clear_output(wait=True)\n",
    "    show_form()\n",
    "    print('Your chosen parameters:\\n\\tquery string is: {}'.format(query))\n",
    "    print('\\ttime frame: from {} to {}'.format(year_from, year_to))\n",
    "    print('\\tgrant agencies: {}'.format(', '.join(grants)))\n",
    "    \n",
    "    \n",
    "def query_handler(change):\n",
    "    global query, query_short, query_keywords, resource_searchstring\n",
    "    query = change.new\n",
    "    query_keywords = query.split(',')\n",
    "    if len(query_keywords) == 2:\n",
    "        query_short = ', '.join(query_keywords[0:2])\n",
    "    elif len(query_keywords) > 2:\n",
    "        query_short = ', '.join(query_keywords[0:2]) + ', ...'\n",
    "    else:\n",
    "        query_short = query_keywords[0]\n",
    "        \n",
    "    resource_searchstring = '(\"{}\")'.format('\" OR \"'.join(query_keywords))\n",
    "    print_parameters()\n",
    "\n",
    "    \n",
    "def years_handler(change):\n",
    "    global year_from, year_to, query_time_constraint\n",
    "    year_from, year_to = [date.strftime('%Y') for date in change.new]\n",
    "    #year_from, year_to = [date.strftime('%Y') for date in years_slider.value]\n",
    "    if int(year_from) > int(year_to):\n",
    "        eprint(\"\\t\\tATTENTION: 'year_to' cannot be smaller than 'year_from'! Defaulting year_to same as year_from: '{}'\".format(year_from))\n",
    "        year_to = year_from\n",
    "\n",
    "    if int(year_to) > int(current_year):\n",
    "        eprint(\"\\t\\tNOTICE: 'year_to' cannot be later than current year. Defaulting year_to to '{}'\".format(current_year))\n",
    "        year_to = str(current_year)\n",
    "\n",
    "    query_time_constraint = ' and (FIRST_PDATE:[{}-01-01 TO {}-12-31])'.format(year_from, year_to)\n",
    "    print_parameters()\n",
    "    \n",
    "    \n",
    "def granters_handler(change):\n",
    "    global granters, grants, all_grant_agencies_constraint\n",
    "    granters = change.new\n",
    "    if granters == 'US funders':\n",
    "        grants = granters_nih + granters_us\n",
    "    #elif granters == 'US not including NIH':\n",
    "    #  grants = granters_us\n",
    "    elif granters == 'UK funders':\n",
    "        grants = granters_uk\n",
    "    elif granters == 'NIH Institutes':\n",
    "        grants = granters_nih\n",
    "    elif granters == 'UK and US incl. NIH':\n",
    "        grants = granters_nih + granters_us + granters_uk\n",
    "    else:\n",
    "        grants = [granters]\n",
    "        \n",
    "    all_grant_agencies_constraint = ' and (GRANT_AGENCY:\"{}\")'.format('\" or GRANT_AGENCY:\"'.join(grants))\n",
    "    print_parameters()\n",
    "    \n",
    "    \n",
    "def color_scheme_handler(change):\n",
    "    global bars_color_scheme, bar_colors\n",
    "    bars_color_scheme = change.new\n",
    "    #colors validator\n",
    "    if bars_color_scheme == 'multicolor':\n",
    "        #color list from plotly.express.colors.qualitative.Alphabet\n",
    "        bar_colors = ['#AA0DFE','#3283FE','#85660D','#782AB6','#565656','#1C8356','#16FF32','#F7E1A0','#E2E2E2','#1CBE4F','#C4451C','#DEA0FD','#FE00FA','#325A9B','#FEAF16','#F8A19F','#90AD1C','#F6222E','#1CFFCE','#2ED9FF','#B10DA1','#C075A6','#FC1CBF','#B00068','#FBE426','#FA0087']\n",
    "    elif bars_color_scheme == 'default(muted blue)':\n",
    "        bar_colors = '#1f77b4'\n",
    "    elif HEX_COLOR_REGEX.search(bars_color_scheme) or bars_color_scheme in css_colors:\n",
    "        bar_colors = bars_color_scheme\n",
    "    else:\n",
    "        eprint(\"WARNING: specified color is not valid. Defaulting to muted blue\")\n",
    "        bar_colors = '#1f77b4'\n",
    "    print_parameters()\n",
    "    \n",
    "    \n",
    "#QUERY string\n",
    "query = 'UniprotKB,Uniprot,Trembl,SwissProt,Swiss-Prot,Uniparc,Uniref'\n",
    "query_keywords = ['UniprotKB', 'Uniprot', 'Trembl', 'SwissProt', 'Swiss-Prot', 'Uniparc', 'Uniref']\n",
    "query_short = \"UniprotKB, Uniprot, ...\"\n",
    "resource_searchstring = '(\"UniprotKB\" OR \"Uniprot\" OR \"Trembl\" OR \"SwissProt\" OR \"Swiss-Prot\" OR \"Uniparc\" OR \"Uniref\")'\n",
    "query_widget = widgets.Dropdown(\n",
    "    options=['UniprotKB,Uniprot,Trembl,SwissProt,Swiss-Prot,Uniparc,Uniref', 'Ensembl,EnsemblGenomes,EnsemblPlants,EnsemblBacteria,EnsemblFungi,EnsemblProtists,EnsemblVertebrates', 'RefSeq', 'OMIM,Online Mendelian Inheritance in Man', 'SGD,Saccharomyces Genome Database,Yeastgenome.org,yeast genome database', 'Zfin,zfin.org,Zebrafish Information Network', 'MGI,MGD,Mouse Genome Informatics,informatics.jax.org', 'Rat genome database,rgd.mcw.edu', 'FlyBase,flybase.org', 'Gene Ontology,geneontology', 'Wormbase,wormbase.org', 'TAIR,arabidopsis.org,Arabidopsis information resource'],\n",
    "    value=query,\n",
    "    description='Query:',\n",
    "    layout={'width': '30em'},\n",
    "    disabled=False,\n",
    ")\n",
    "query_widget.observe(query_handler, names='value')\n",
    "\n",
    "#YEAR range\n",
    "current_year = datetime.datetime.now().date().year\n",
    "year_from, year_to = str(current_year - 5), str(current_year)\n",
    "query_time_constraint = \" and (FIRST_PDATE:[{}-01-01 TO {}-12-31])\".format(current_year - 5, current_year)\n",
    "start_date = datetime.date(1980, 1, 1)\n",
    "end_date = datetime.date(current_year, 12, 31)\n",
    "\n",
    "dates = pd.date_range(start_date, end_date, freq='Y')\n",
    "options = [(date.strftime(' %Y '), date) for date in dates]\n",
    "index = (0, len(options)-1)\n",
    "\n",
    "years_slider = widgets.SelectionRangeSlider(\n",
    "    options=options,\n",
    "    index=index,\n",
    "    description='Years range',\n",
    "    orientation='horizontal',\n",
    "    layout={'width': '30em'},\n",
    ")\n",
    "years_slider.value = (dates[-6],dates[-1]) #default: last 6 years\n",
    "years_slider.observe(years_handler, names='value')\n",
    "\n",
    "#GRANTERS dropdown\n",
    "granters = \"US funders\"\n",
    "grants = granters_nih + granters_us\n",
    "all_grant_agencies_constraint = ' and (GRANT_AGENCY:\"{}\")'.format('\" or GRANT_AGENCY:\"'.join(grants))\n",
    "resource_searchstring = '(\"UniprotKB\" OR \"Uniprot\" OR \"Trembl\" OR \"SwissProt\" OR \"Swiss-Prot\" OR \"Uniparc\" OR \"Uniref\")'\n",
    "granters_widget = widgets.Dropdown(\n",
    "    options=[\"US funders\", \"UK funders\", \"NIH Institutes\", \"UK and US incl. NIH\", \"NHGRI NIH HHS\", \"NIGMS NIH HHS\", \"NCI NIH HHS\", \"NHLBI NIH HHS\", \"NIAID NIH HHS\", \"NIDDK NIH HHS\", \"NINDS NIH HHS\", \"NIMH NIH HHS\", \"NCRR NIH HHS\", \"NICHD NIH HHS\", \"NIA NIH HHS\", \"NIDA NIH HHS\", \"NEI NIH HHS\", \"NIAMS NIH HHS\", \"NIEHS NIH HHS\", \"NIAAA NIH HHS\", \"NIDCR NIH HHS\", \"NIDCD NIH HHS\", \"NIBIB NIH HHS\"],\n",
    "    value=granters,\n",
    "    description='Granters:',\n",
    "    layout={'width': '30em'},\n",
    "    disabled=False,\n",
    ")\n",
    "granters_widget.observe(granters_handler, names='value')\n",
    "\n",
    "#COLOR scheme\n",
    "bars_color_scheme = 'default(muted blue)'\n",
    "bar_colors = '#1f77b4'\n",
    "bars_color_scheme_widget = widgets.Dropdown(\n",
    "    options=['default(muted blue)', 'black', 'multicolor', 'darkgreen', 'darkgray', 'goldenrod', 'teal', 'slateblue', 'blueviolet', '#ff7f0e'],\n",
    "    value=bars_color_scheme,\n",
    "    description='Color scheme:',\n",
    "    layout={'width': '30em'},\n",
    "    disabled=False,\n",
    ")\n",
    "bars_color_scheme_widget.observe(color_scheme_handler, names='value')\n",
    "\n",
    "initialized_code = True"
   ]
  },
  {
   "cell_type": "markdown",
   "metadata": {},
   "source": [
    "# Parameters"
   ]
  },
  {
   "cell_type": "code",
   "execution_count": 6,
   "metadata": {
    "tags": [
     "hide-input"
    ]
   },
   "outputs": [
    {
     "data": {
      "application/vnd.jupyter.widget-view+json": {
       "model_id": "1c3742e18a344a5f88247467b0731a10",
       "version_major": 2,
       "version_minor": 0
      },
      "text/plain": [
       "Dropdown(description='Query:', layout=Layout(width='30em'), options=('UniprotKB,Uniprot,Trembl,SwissProt,Swiss…"
      ]
     },
     "metadata": {},
     "output_type": "display_data"
    },
    {
     "data": {
      "application/vnd.jupyter.widget-view+json": {
       "model_id": "a12a80db71b84942b069fbbc2840a4ae",
       "version_major": 2,
       "version_minor": 0
      },
      "text/plain": [
       "SelectionRangeSlider(description='Years range', index=(38, 43), layout=Layout(width='30em'), options=((' 1980 …"
      ]
     },
     "metadata": {},
     "output_type": "display_data"
    },
    {
     "data": {
      "application/vnd.jupyter.widget-view+json": {
       "model_id": "30cbf4cf28e449b49d4e2f59669cc813",
       "version_major": 2,
       "version_minor": 0
      },
      "text/plain": [
       "Dropdown(description='Granters:', layout=Layout(width='30em'), options=('US funders', 'UK funders', 'NIH Insti…"
      ]
     },
     "metadata": {},
     "output_type": "display_data"
    },
    {
     "data": {
      "application/vnd.jupyter.widget-view+json": {
       "model_id": "5a2045c0d4324fedaf545d454f7fa38e",
       "version_major": 2,
       "version_minor": 0
      },
      "text/plain": [
       "Dropdown(description='Color scheme:', layout=Layout(width='30em'), options=('default(muted blue)', 'black', 'm…"
      ]
     },
     "metadata": {},
     "output_type": "display_data"
    },
    {
     "name": "stdout",
     "output_type": "stream",
     "text": [
      "Your chosen parameters:\n",
      "\tquery string is: UniprotKB,Uniprot,Trembl,SwissProt,Swiss-Prot,Uniparc,Uniref\n",
      "\ttime frame: from 2018 to 2023\n",
      "\tgrant agencies: NIH, NHGRI NIH HHS, NIGMS NIH HHS, NCI NIH HHS, NHLBI NIH HHS, NIAID NIH HHS, NIDDK NIH HHS, NINDS NIH HHS, NIMH NIH HHS, NCRR NIH HHS, NICHD NIH HHS, NIA NIH HHS, NIDA NIH HHS, NEI NIH HHS, NIAMS NIH HHS, NIEHS NIH HHS, NIAAA NIH HHS, NIDCR NIH HHS, NIDCD NIH HHS, NIBIB NIH HHS, Department of Energy, National Science Foundation, Bill and Melinda Gates, Department of Defense, Department of Agriculture, Food and Drug Administration, Environmental Protection Agency, Howard Hughes Medical Institute\n"
     ]
    }
   ],
   "source": [
    "try:\n",
    "    initialized_code\n",
    "except:\n",
    "    print('ERROR: You need first to execute the CODE cell (the one above this one) in order to use this notebook. After doing that, re-execute this cell.')\n",
    "    #raise SystemExit\n",
    "else:\n",
    "    #DISPLAY\n",
    "    show_form()\n",
    "    print_parameters()"
   ]
  },
  {
   "cell_type": "markdown",
   "metadata": {},
   "source": [
    "## Plots"
   ]
  },
  {
   "cell_type": "code",
   "execution_count": null,
   "metadata": {
    "colab": {
     "base_uri": "https://localhost:8080/",
     "height": 594
    },
    "id": "5nKdS-OCwzHl",
    "outputId": "29163faa-9df6-4b4f-8ff5-2c075ab0a78d",
    "tags": [
     "hide-input"
    ]
   },
   "outputs": [],
   "source": [
    "#@title **Generate plot of total results** { display-mode: \"form\" }\n",
    "try:\n",
    "    initialized_code\n",
    "except:\n",
    "    print('ERROR: You need first to execute the CODE and PARAMETERS cells (top of the page) in order to generate plots. After doing that, re-execute this cell.')\n",
    "    #raise SystemExit\n",
    "else:\n",
    "    #total result(s)\n",
    "    hits = []\n",
    "    names = []\n",
    "    hits.append(query2publications(resource_searchstring, 'Total papers'))\n",
    "    names.append('Total papers')\n",
    "    if int(year_from) > int(year_to):\n",
    "        eprint(\"ATTENTION: 'year_to' cannot be smaller than 'year_from'!\")\n",
    "    else:\n",
    "        eprint('Querying publication and patent databases')\n",
    "        t = tqdm(total=4, unit='query', ascii=\" ▖▘▝▗▚▞█\")\n",
    "        desc = 'Papers from {} to {}'.format(year_from, year_to)\n",
    "        hits.append(query2publications(resource_searchstring + query_time_constraint, desc))\n",
    "        names.append(desc); t.update(1)\n",
    "\n",
    "        desc = 'Papers acknowledging \"{}\"'.format(granters)\n",
    "        hits.append(query2publications(resource_searchstring + all_grant_agencies_constraint, desc))\n",
    "        names.append(desc); t.update(1)\n",
    "\n",
    "        desc = 'Acknowledging \"{}\", {} to {}'.format(granters, year_from, year_to)\n",
    "        hits.append(query2publications(resource_searchstring + query_time_constraint + all_grant_agencies_constraint, desc))\n",
    "        names.append(desc); t.update(1)\n",
    "\n",
    "        desc = 'Patents from {} to {}'.format(year_from, year_to)\n",
    "        hits.append(query2patents(resource_searchstring + ' AND (pdates:[{}0101 TO {}1231])'.format(year_from, year_to), desc))\n",
    "        names.append(desc); t.update(1)\n",
    "\n",
    "        t.close()\n",
    "        df = barplot(names, hits, title='{}'.format('; '.join(names)), xaxis='Set', filename='totals', resulttype='papers/patents', sort=False)\n",
    "        df.to_csv('totals.csv', encoding = 'utf-8-sig')"
   ]
  },
  {
   "cell_type": "markdown",
   "metadata": {
    "id": "oXxg5a6xxTnf"
   },
   "source": [
    "If you wish to download the data from the previous plot (once it is completely generated): [totals.csv](./totals.csv)"
   ]
  },
  {
   "cell_type": "code",
   "execution_count": null,
   "metadata": {
    "colab": {
     "base_uri": "https://localhost:8080/",
     "height": 1000
    },
    "id": "v1s3nWg5wCmi",
    "outputId": "e5703fe5-0b40-44d7-bf20-a239d3dd3e05",
    "tags": [
     "hide-input"
    ]
   },
   "outputs": [],
   "source": [
    "#@title **Generate plots by year** (both in total and acknowledging any of the grant agencies specified) { display-mode: \"form\" }\n",
    "try:\n",
    "    initialized_code\n",
    "except:\n",
    "    print('ERROR: You need first to execute the CODE and PARAMETERS cells (top of the page) in order to generate plots. After doing that, re-execute this cell.')\n",
    "    #raise SystemExit\n",
    "else:\n",
    "    #time plot\n",
    "    if resource_searchstring:\n",
    "        if int(year_from) > int(year_to):\n",
    "            eprint(\"ATTENTION: 'year_to' cannot be smaller than 'year_from'!\")\n",
    "        else:\n",
    "            years = list(range(int(year_from), int(year_to) + 1))\n",
    "            hits_by_year = []\n",
    "            hits_by_year_selected_grants = []\n",
    "            eprint('Querying publication database for {} years'.format(len(years)))\n",
    "        for year in tqdm(years, unit='query', ascii=\" ▖▘▝▗▚▞█\"):\n",
    "            query_year_constraint = ' and (FIRST_PDATE:[{0}-01-01 TO {0}-12-31])'.format(year)\n",
    "            hits_by_year.append(query2publications(resource_searchstring + query_year_constraint, '{}'.format(year)))\n",
    "            hits_by_year_selected_grants.append(query2publications(resource_searchstring + query_year_constraint + all_grant_agencies_constraint, '{}'.format(year)))\n",
    "        df = barplot(years, hits_by_year, title='from {} to {}'.format(year_from, year_to), xaxis='Year', filename='by_year', sort=False)\n",
    "        df.to_csv('by_year.csv', encoding = 'utf-8-sig')\n",
    "        df = barplot(years, hits_by_year_selected_grants, title='acknowledging \"{}\", from {} to {}'.format(granters, year_from, year_to), xaxis='Year', filename='by_year_grant', sort=False)\n",
    "        df.to_csv('by_year_grant.csv', encoding = 'utf-8-sig')\n",
    "    else:\n",
    "        eprint(\"ERROR: query string not specified\")"
   ]
  },
  {
   "cell_type": "markdown",
   "metadata": {
    "id": "nDiPcaZty_oc"
   },
   "source": [
    "If you wish to download the data from the previous plots (once they are completely generated):\n",
    "[by_year.csv](./by_year.csv)\n",
    "and\n",
    "[by_year_grant.csv](./by_year_grant.csv)"
   ]
  },
  {
   "cell_type": "code",
   "execution_count": null,
   "metadata": {
    "colab": {
     "base_uri": "https://localhost:8080/",
     "height": 577
    },
    "id": "LdLdroqUy8XF",
    "outputId": "48abbf47-e9e1-463e-f9ab-2e777581dd95",
    "tags": [
     "hide-input"
    ]
   },
   "outputs": [],
   "source": [
    "#@title **Generate plots by grant agency** (in the timeframe specified) { display-mode: \"form\" }\n",
    "try:\n",
    "    initialized_code\n",
    "except:\n",
    "    print('ERROR: You need first to execute the CODE and PARAMETERS cells (top of the page) in order to generate plots. After doing that, re-execute this cell.')\n",
    "    #raise SystemExit\n",
    "else:\n",
    "    #grants plot\n",
    "    if resource_searchstring and len(grants) and int(year_from) <= int(year_to):\n",
    "        #hits_by_grant = []\n",
    "        hits_by_grant_timeframe = []\n",
    "        eprint('Querying publication database for {} funders'.format(len(grants)))\n",
    "        for grant in tqdm(grants, unit='query', ascii=\" ▖▘▝▗▚▞█\"):\n",
    "            grant_agency_constraint = ' and (GRANT_AGENCY:\"{}\")'.format(grant)\n",
    "            #hits_by_grant.append(query2publications(resource_searchstring + grant_agency_constraint))\n",
    "            hits_by_grant_timeframe.append(query2publications(resource_searchstring + grant_agency_constraint + query_time_constraint))\n",
    "        #barplot(grants, hits_by_grant, title='by grant agency', xaxis='Grant agency', sort=True)\n",
    "        df = barplot(grants, hits_by_grant_timeframe, title='by grant agency acknowledged, from {} to {}'.format(year_from, year_to), xaxis='Grant agency', filename='by_grant_agency', sort=True)\n",
    "        df.to_csv('by_grant_agency.csv', encoding = 'utf-8-sig')"
   ]
  },
  {
   "cell_type": "markdown",
   "metadata": {
    "id": "r_hZXKCrzp1W"
   },
   "source": [
    "If you wish to download the data from the previous plot (once it is completely generated): \n",
    "[by_grant_agency.csv](./by_grant_agency.csv)"
   ]
  },
  {
   "cell_type": "code",
   "execution_count": null,
   "metadata": {
    "colab": {
     "base_uri": "https://localhost:8080/",
     "height": 577
    },
    "id": "doOJCpLtU8Td",
    "outputId": "d21553d4-c075-4f81-b8a8-8b8110218ea6",
    "tags": [
     "hide-input"
    ]
   },
   "outputs": [],
   "source": [
    "#@title **Generate plot by paper section** { display-mode: \"form\" }\n",
    "try:\n",
    "    initialized_code\n",
    "except:\n",
    "    print('ERROR: You need first to execute the CODE and PARAMETERS cells (top of the page) in order to generate plots. After doing that, re-execute this cell.')\n",
    "    #raise SystemExit\n",
    "else:\n",
    "    #paper section plot\n",
    "    #hits_by_section = []\n",
    "    hits_by_section_timeframe = []\n",
    "    eprint('Querying publication database for {} paper sections'.format(len(paper_sections)))\n",
    "    for section in tqdm(paper_sections, unit='query', ascii=\" ▖▘▝▗▚▞█\"):\n",
    "        section_keywords = []\n",
    "        for keyword in query_keywords:\n",
    "            section_keywords.append('({}:\"{}\")'.format(section, keyword))\n",
    "            section_resource_searchstring = '({})'.format(' OR '.join(section_keywords))\n",
    "        #hits_by_section.append(query2publications(section_resource_searchstring, 'section {}'.format(section)))\n",
    "        hits_by_section_timeframe.append(query2publications(section_resource_searchstring + query_time_constraint, 'section {}'.format(section)))\n",
    "    #barplot(paper_sections, hits_by_section, title='by paper section', xaxis='Paper section', sort=True)\n",
    "    df = barplot(paper_sections, hits_by_section_timeframe, title='by paper section, from {} to {}'.format(year_from, year_to), xaxis='Paper section', filename='by_paper_section', sort=True)\n",
    "    df.to_csv('by_paper_section.csv', encoding = 'utf-8-sig')"
   ]
  },
  {
   "cell_type": "markdown",
   "metadata": {
    "id": "z_Qtrr0y0CeA"
   },
   "source": [
    "If you wish to download the data from the previous plot (once it is completely generated): [by_paper_section.csv](./by_paper_section.csv)"
   ]
  },
  {
   "cell_type": "code",
   "execution_count": null,
   "metadata": {
    "cellView": "form",
    "colab": {
     "base_uri": "https://localhost:8080/",
     "height": 577
    },
    "id": "k7opYjpckeGn",
    "outputId": "0254669c-3263-40c5-b47b-ced70e32bd53",
    "tags": [
     "hide-input"
    ]
   },
   "outputs": [],
   "source": [
    "#@title **Generate plots by year of patent mentions**\n",
    "try:\n",
    "    initialized_code\n",
    "except:\n",
    "    print('ERROR: You need first to execute the CODE and PARAMETERS cells (top of the page) in order to generate plots. After doing that, re-execute this cell.')\n",
    "    #raise SystemExit\n",
    "else:\n",
    "    if resource_searchstring:\n",
    "        if int(year_from) > int(year_to):\n",
    "            eprint(\"ATTENTION: 'year_to' cannot be smaller than 'year_from'!\")\n",
    "        else:\n",
    "            years = list(range(int(year_from), int(year_to) + 1))\n",
    "            patents_by_year = []\n",
    "            eprint('Querying patent database for {} years'.format(len(years)))\n",
    "            for year in tqdm(years, unit='query', ascii=\" ▖▘▝▗▚▞█\"):\n",
    "                patents_by_year.append(query2patents(resource_searchstring + ' AND (pdates:{})'.format(year), year))\n",
    "            df = barplot(years, patents_by_year, title='from {} to {}'.format(year_from, year_to), xaxis='Year', filename='patents_by_year', resulttype='patents', sort=False)\n",
    "            df.to_csv('patents_by_year.csv', encoding = 'utf-8-sig')\n",
    "    else:\n",
    "        eprint(\"ERROR: query string not specified\")"
   ]
  },
  {
   "cell_type": "markdown",
   "metadata": {
    "id": "wGMkyidwlpiW"
   },
   "source": [
    "If you wish to download the data from the previous plot (once it is completely generated): [patents_by_year.csv](./patents_by_year.csv)"
   ]
  }
 ],
 "metadata": {
  "@webio": {
   "lastCommId": null,
   "lastKernelId": null
  },
  "celltoolbar": "Tags",
  "colab": {
   "provenance": []
  },
  "kernelspec": {
   "display_name": "Python 3 (ipykernel)",
   "language": "python",
   "name": "python3"
  },
  "language_info": {
   "codemirror_mode": {
    "name": "ipython",
    "version": 3
   },
   "file_extension": ".py",
   "mimetype": "text/x-python",
   "name": "python",
   "nbconvert_exporter": "python",
   "pygments_lexer": "ipython3",
   "version": "3.10.9"
  }
 },
 "nbformat": 4,
 "nbformat_minor": 1
}
